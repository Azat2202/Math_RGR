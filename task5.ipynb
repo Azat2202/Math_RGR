{
  "cells": [
    {
      "cell_type": "code",
      "execution_count": 13,
      "outputs": [],
      "source": [
        " import numpy as np\n",
        "import math\n",
        "import matplotlib.pyplot as plt\n",
        "import matplotlib.patches as patches\n",
        "import matplotlib.animation as animation"
      ],
      "metadata": {
        "is_executing": true,
        "id": "_MB39JZtA8cF"
      }
    },
    {
      "cell_type": "markdown",
      "source": [
        "## Константы: "
      ],
      "metadata": {
        "id": "kudcUhB_A_Zo"
      }
    },
    {
      "cell_type": "code",
      "source": [
        "f = lambda x: math.pow(math.e, -x) # Функция\n",
        "a, b = 0, 10 # Итервалы\n",
        "N = 100_000"
      ],
      "metadata": {
        "id": "mdpeaxDIBD4M"
      },
      "execution_count": 14,
      "outputs": []
    },
    {
      "cell_type": "code",
      "source": [
        "X = np.linspace(a, b, N + 1).astype(int)"
      ],
      "metadata": {
        "id": "bqWxwG2RB-ES"
      },
      "execution_count": 15,
      "outputs": []
    },
    {
      "cell_type": "markdown",
      "source": [
        "## Метод прямоугольников\n",
        "Требуемая точность достигается при N = 10000 и t = 0,5"
      ],
      "metadata": {
        "id": "6916BCgJEDxC"
      }
    },
    {
      "cell_type": "code",
      "source": [
        "def rectangle_method(f, a, b, n, t):\n",
        "  h = (b - a) / n\n",
        "  result = sum([f(a + (i - t) * h) for i in range(1, n + 1)]) * h\n",
        "  return result"
      ],
      "metadata": {
        "id": "PR49-sBuEKNO"
      },
      "execution_count": 16,
      "outputs": []
    },
    {
      "cell_type": "code",
      "source": [
        "print(rectangle_method(f, a, b, 10, 0.5))"
      ],
      "metadata": {
        "colab": {
          "base_uri": "https://localhost:8080/"
        },
        "id": "s90CToMyFN9D",
        "outputId": "f15b0aa2-a2bb-4b01-e4d1-54d144fb55fc"
      },
      "execution_count": 27,
      "outputs": [
        {
          "output_type": "stream",
          "name": "stdout",
          "text": [
            "0.9594738136460106\n"
          ]
        }
      ]
    },
    {
      "cell_type": "markdown",
      "source": [
        "## Метод Трапеций\n",
        "Требуемая точность достигается при n = 10000"
      ],
      "metadata": {
        "id": "nlEgwWMOFspM"
      }
    },
    {
      "cell_type": "code",
      "source": [
        "def trapezoid_method(f, a, b, n):\n",
        "  h = (b - a) / n\n",
        "  result = 0.5 * f(a) + sum([f(a + i*h) for i in range(1, n)]) + 0.5 * f(b)\n",
        "  result *= h\n",
        "  return result"
      ],
      "metadata": {
        "id": "mN1VROzcFxdW"
      },
      "execution_count": 18,
      "outputs": []
    },
    {
      "cell_type": "code",
      "source": [
        "print(trapezoid_method(f, a, b, 10))"
      ],
      "metadata": {
        "colab": {
          "base_uri": "https://localhost:8080/"
        },
        "id": "jc6LMDHtHnaJ",
        "outputId": "c505162f-4d0f-4a2a-d2de-129e5eec3577"
      },
      "execution_count": 19,
      "outputs": [
        {
          "output_type": "stream",
          "name": "stdout",
          "text": [
            "1.0819275852028298\n"
          ]
        }
      ]
    },
    {
      "cell_type": "markdown",
      "source": [
        "## Метод парабол\n",
        "Требуемая точность достигается при n = 90"
      ],
      "metadata": {
        "id": "0Sr6x6qrJg_h"
      }
    },
    {
      "cell_type": "code",
      "source": [
        "def parabola_method(f, a, b,n):\n",
        "  h = (b - a) / n\n",
        "  return (h / 3) * (f(a) + \n",
        "                    f(b) + \n",
        "                    4 * sum([f(a + i * h) for i in range(1, n + 1, 2)]) + \n",
        "                    2 * sum([f(a + i * h) for i in range(2, n + 1, 2)]))"
      ],
      "metadata": {
        "id": "x4jzcUpnJoyK"
      },
      "execution_count": 20,
      "outputs": []
    },
    {
      "cell_type": "code",
      "source": [
        "print(parabola_method(f, a, b, 10))"
      ],
      "metadata": {
        "colab": {
          "base_uri": "https://localhost:8080/"
        },
        "id": "0QGEew2FKBew",
        "outputId": "1c3ef64f-67a7-4ad9-cb58-abaa9bae6942"
      },
      "execution_count": 21,
      "outputs": [
        {
          "output_type": "stream",
          "name": "stdout",
          "text": [
            "1.00494182229375\n"
          ]
        }
      ]
    },
    {
      "cell_type": "markdown",
      "source": [
        "## Метод Боде (Буля)\n",
        "h = 1\n"
      ],
      "metadata": {
        "id": "5a40gUIiNHQp"
      }
    },
    {
      "cell_type": "code",
      "source": [
        "def bode_method(f, a, b, h):\n",
        "  splitting = [(a + h*i) for i in range(0, int((b - a) / h) + 1)]\n",
        "  n = len(splitting)\n",
        "  return (2 * h / 45 ) * (7 * (f(splitting[0]) + f(splitting[-1])) \n",
        "                             + 32 * (sum([f(splitting[i]) for i in range(1, n, 2)]))\n",
        "                             + 12 * (sum([f(splitting[i]) for i in range(2, n - 1, 4)])) \n",
        "                             + 14 * (sum([f(splitting[i]) for i in range(4, n - 3, 4)])))"
      ],
      "metadata": {
        "id": "WeWxSOXfNN-t"
      },
      "execution_count": 22,
      "outputs": []
    },
    {
      "cell_type": "code",
      "source": [
        "print(bode_method(f, a, b, 1))"
      ],
      "metadata": {
        "colab": {
          "base_uri": "https://localhost:8080/"
        },
        "id": "8IPWjYHoPGrc",
        "outputId": "2cca2cd8-ffd9-4927-cacc-3accfdbf6058"
      },
      "execution_count": 23,
      "outputs": [
        {
          "output_type": "stream",
          "name": "stdout",
          "text": [
            "1.0010923162118677\n"
          ]
        }
      ]
    }
  ],
  "metadata": {
    "kernelspec": {
      "display_name": "Python 3",
      "language": "python",
      "name": "python3"
    },
    "language_info": {
      "codemirror_mode": {
        "name": "ipython",
        "version": 2
      },
      "file_extension": ".py",
      "mimetype": "text/x-python",
      "name": "python",
      "nbconvert_exporter": "python",
      "pygments_lexer": "ipython2",
      "version": "2.7.6"
    },
    "colab": {
      "provenance": []
    }
  },
  "nbformat": 4,
  "nbformat_minor": 0
}